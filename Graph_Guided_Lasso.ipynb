{
  "nbformat": 4,
  "nbformat_minor": 0,
  "metadata": {
    "colab": {
      "name": "Graph Guided Lasso.ipynb",
      "provenance": []
    },
    "kernelspec": {
      "name": "python3",
      "display_name": "Python 3"
    }
  },
  "cells": [
    {
      "cell_type": "markdown",
      "metadata": {
        "id": "sJdO9GOtedYy"
      },
      "source": [
        "##An Implementation of General Fused Lasso\n",
        "Based on - Graph -Structured Multi-task Regression and Efficient Optimization Method for General Fused Lasso;\n",
        "Authors \t- Xi Chen, Seyoung Kim, Qihang Lin, Jaime G. Carbonell, Eric P. Xing\\\\\n",
        "Source \t\t- [v1] Thu, 20 May 2010 on arXiv:1005.3579 https://arxiv.org/abs/1005.3579\n",
        "By: Andrew Murza, Nitin Mishra, Abhilash Chaudhary"
      ]
    },
    {
      "cell_type": "code",
      "metadata": {
        "id": "ytMS9O9OTpzs"
      },
      "source": [
        "import matplotlib.pyplot as plt\n",
        "import numpy as np\n",
        "import time\n",
        "import pylab\n",
        "from sklearn.linear_model import MultiTaskLasso, Lasso\n",
        "from sklearn.model_selection import train_test_split\n",
        "rng = np.random.RandomState(42)\n",
        "%matplotlib inline"
      ],
      "execution_count": 3,
      "outputs": []
    },
    {
      "cell_type": "markdown",
      "metadata": {
        "id": "yBwm5izPe0Ag"
      },
      "source": [
        "##GFLasso with Proximal Gradiet function\n",
        "Model design for general fused lasso along with proximal gradient method"
      ]
    },
    {
      "cell_type": "code",
      "metadata": {
        "id": "SQ41xAvJaTdG"
      },
      "source": [
        "class GraphFusedLasso():\n",
        "    \"\"\"\n",
        "    Graph-Guided Fused Lasso\n",
        "    \"\"\"\n",
        "    def __init__(\n",
        "        self, G, theta_val=0, X_b=0, lr=0, n_iter=0,max_iterations=50, lambda_val=1.0, gamma_val=1.0, epsilon=1.0, tol=10**-6,\n",
        "        no_bias=False, verbose=False, grad_func=1,\n",
        "    ):\n",
        "        self.G = G\n",
        "        self.max_iterations = max_iterations\n",
        "        self.lambda_val = lambda_val\n",
        "        self.gamma_val = gamma_val\n",
        "        self.epsilon = epsilon  \n",
        "        self.tol = tol\n",
        "        self.no_bias = no_bias\n",
        "        self.verbose = verbose\n",
        "        self.grad_func='proximal'\n",
        "        self.theta_val = theta_val\n",
        "\n",
        "    \n",
        "    def fit(self, X, y):\n",
        "        #adding bias for y_pred\n",
        "#        print(grad_func)\n",
        "        if grad_func == 1:\n",
        "          if not self.no_bias:\n",
        "              X = self.bias_padding(X)\n",
        "        N, J = X.shape\n",
        "        tasks = y.shape[1] #K\n",
        "        edges = np.nonzero(self.G)[0].shape[0] #E\n",
        "\n",
        "        # Initialize vertex-edge incident matrix H with KxE \n",
        "        H = np.zeros((tasks, edges)) \n",
        "        #Fill H as per Sec 4.1 definition\n",
        "        for k in range(tasks):\n",
        "            for e, (m, l) in enumerate(zip(*np.nonzero(self.G ))):\n",
        "                if k == m:\n",
        "                    H[k, e] = np.abs(self.G[m, l])\n",
        "                elif k == l:\n",
        "                    H[k, e] = -np.sign(self.G[m, l]) * np.abs(self.G[m, l])\n",
        "                    \n",
        "        I = np.identity(tasks)\n",
        "        # lasso and graph-guided fusion penalty functions as ||BC||_1, with C = (λI, γH)\n",
        "        C = np.concatenate((self.lambda_val * I, self.gamma_val * H), axis=1)\n",
        "        #d(A) ≡1/2*||A||^2_F; D = 1/2*J(K+E) Sec 4.2\n",
        "        D = 0.5 * J * (tasks + edges)\n",
        "        #||Γ||_U, mapping from JxK to Jx(K+|E|)\n",
        "        d_k = np.sum(self.G**2, axis=1)\n",
        "        #mu defined to achieve best convergance rate\n",
        "        mu = self.epsilon / (2. * D)\n",
        "        #eigenvector X^TX \n",
        "        eigen_value, _ = np.linalg.eig(np.dot(X.T, X))\n",
        "        #Upper bounded Lipschitz constant Eq 12 L_U = λmax(XTX) + (λ^2 + 2γ^2 maxk∈V d_k)/µ\n",
        "        L_u = np.max(eigen_value) + (self.lambda_val**2 + 2 * self.gamma_val**2 * np.max(d_k)) / mu\n",
        "\n",
        "        # Proximal Gradient Function, Algorithm 1\n",
        "        W_prev = np.zeros((J, tasks))\n",
        "        B = np.ones((J, tasks))\n",
        "        Z_prev = 0.\n",
        "        B_prev = 0.\n",
        "        coefdiff_history = []\n",
        "        loss_history = []\n",
        "        if grad_func == 1:\n",
        "          B, coefdiff_history, loss_history = self.proximal_gradient(W_prev, B_prev, B, X, y, C, mu, L_u, Z_prev, self.max_iterations, loss_history, coefdiff_history)\n",
        "        #Stochastic Gradient Method added only for the Computation Comparison purpose.\n",
        "        #This method cannot be used for generating useful output\n",
        "        elif grad_func == 2:\n",
        "          self.theta,self.cost_history = stochastic_grad_desc(X_b,y,theta,lr,n_iter)\n",
        "        #Stochastic Gradient Method added only for the Computation Comparison purpose.\n",
        "        #This method cannot be used for generating useful output\n",
        "        elif grad_func == 3:\n",
        "          w_init = np.random.randn(X.shape[1])\n",
        "          w,b = stochastic_subgrad(X,y,w_init,b = 10,tradeoff=1, itr=n_iter)\n",
        "        else:\n",
        "          print(\"Define Gradient Function to use\")\n",
        "\n",
        "\n",
        "        self.coef_ = B.T[:, :-1] if not self.no_bias else B.T\n",
        "        self.intercept_ = B.T[:, -1] if not self.no_bias else np.zeros(tasks)\n",
        "        self.coefdiff_history_ = coefdiff_history\n",
        "        self.loss_history_ = loss_history\n",
        "        return self\n",
        "\n",
        "    def gflasso_prediction(self, X):\n",
        "        #model definition Eq 1\n",
        "        y_pred = np.dot(X, self.coef_.T) + self.intercept_\n",
        "        return y_pred\n",
        "\n",
        "    def bias_padding(self, X):\n",
        "        b = np.ones((X.shape[0], 1), dtype=X.dtype)\n",
        "        return np.concatenate((X, b), axis=1)\n",
        "    \n",
        "    #Eq 14 as graph fusion penalty\n",
        "    def graph_fusion_penalty(self, X, y, B):\n",
        "        #vector l2-norm\n",
        "        loss = 0.5 * np.sum((y - np.dot(X, B))**2)\n",
        "        loss += self.lambda_val * np.linalg.norm(B, ord=1)\n",
        "        for e, (m, l) in enumerate(zip(*np.nonzero(self.G))):\n",
        "            r = self.G[m, l]\n",
        "            s = np.sign(r)\n",
        "            loss += self.gamma_val * np.abs(r) * np.sum(np.abs(B[:, m] - s * B[:, l]))\n",
        "        return loss\n",
        "    \n",
        "    def proximal_gradient(self, W_prev, B_prev, B, X, y, C, mu, L_u, Z_prev, itr, loss_history, coefdiff_history):\n",
        "        for itr in range(self.max_iterations):\n",
        "        #derivaative of Optimal solution A*\n",
        "        #lemma 1\n",
        "            S_A = shrinkage_operator(np.dot(W_prev, C) / mu)\n",
        "            #Eq 11∇f(B) = X^T(XB − Y) + A∗C^TT\n",
        "            grad_f_b = np.dot(X.T, (np.dot(X, W_prev) - y)) + np.dot(S_A, C.T)\n",
        "    \n",
        "            # Gradient descent step\n",
        "            B = threshold_offset(W_prev - grad_f_b / L_u, self.lambda_val / L_u)\n",
        "                \n",
        "            # Step 3 \n",
        "            Z = Z_prev - 0.5 * (itr + 1) * grad_f_b / L_u \n",
        "    \n",
        "            # Step 4\n",
        "            W_prev = ((itr + 1) / (itr + 3)) * B + (2 / (itr + 3)) * Z \n",
        "    \n",
        "            # Check termination condition\n",
        "            loss = self.graph_fusion_penalty(X, y, B)\n",
        "            # fusion penalty defined on inputs ordered in time as a chain\n",
        "            #i.e., special case of graph_fusion_penalty\n",
        "            special_case_penalty = np.mean(np.abs(B - B_prev)) if itr > 0 else np.inf\n",
        "            loss_history.append(loss)\n",
        "            coefdiff_history.append(special_case_penalty)\n",
        "            \n",
        "            if self.verbose:\n",
        "                print(\"Iter {0}: Fusion Penalty = {1:e}, Loss = {2:e}\".format(\n",
        "                    itr + 1, special_case_penalty, loss))\n",
        "            if special_case_penalty <= self.tol:\n",
        "                #print(itr)\n",
        "                break\n",
        "            B_prev = B\n",
        "            Z_prev = Z\n",
        "            \n",
        "        return  B, coefdiff_history, loss_history"
      ],
      "execution_count": 4,
      "outputs": []
    },
    {
      "cell_type": "code",
      "metadata": {
        "id": "0rsZzZKEabo9"
      },
      "source": [
        "def shrinkage_operator(array):\n",
        "    #For x ∈ R, S(x) = x if −1 < x < 1,\n",
        "    #S(x) = 1 if x ≥ 1, and S(x) = −1 if x ≤ −1\n",
        "    array = np.where(array >= 1., 1., array)  # if x >= 1\n",
        "    array = np.where(array <= -1., -1., array)  # if x <= -1\n",
        "    return array\n"
      ],
      "execution_count": 5,
      "outputs": []
    },
    {
      "cell_type": "code",
      "metadata": {
        "id": "5rAaKP8eaZtP"
      },
      "source": [
        "def threshold_offset(array, lambda_val):\n",
        "    array_new = np.zeros_like(array)\n",
        "    array_new[np.where(array > lambda_val)] = array[np.where(array > lambda_val)] - lambda_val\n",
        "    array_new[np.where(array < -lambda_val)] = array[np.where(array < -lambda_val)] + lambda_val\n",
        "    return array_new"
      ],
      "execution_count": 6,
      "outputs": []
    },
    {
      "cell_type": "markdown",
      "metadata": {
        "id": "b5Q14TcVlPPt"
      },
      "source": [
        "##Stochastic Gradient Descent\n",
        "For comparison purpose only"
      ]
    },
    {
      "cell_type": "code",
      "metadata": {
        "id": "01lwGFItUl3_"
      },
      "source": [
        "def fn_cost(theta,X,y):\n",
        "        predictions = X.dot(theta)\n",
        "        cost = (1/2*len(y)) * np.sum(np.square(predictions-y))\n",
        "        return cost"
      ],
      "execution_count": 7,
      "outputs": []
    },
    {
      "cell_type": "code",
      "metadata": {
        "id": "0LHPg7zVUh6Z"
      },
      "source": [
        "def stochastic_grad_desc(X,y,theta,learning_rate=0.01,itr=10):\n",
        "        cost_history = np.zeros(itr)    \n",
        "        for it in range(itr):\n",
        "            cost =0.0\n",
        "            for i in range(len(y)):\n",
        "                rand_idx = np.random.randint(0,len(y))\n",
        "                X_i = X[rand_idx,:].reshape(1,X.shape[1])\n",
        "                y_i = y[rand_idx,:].reshape(1,y.shape[1])\n",
        "                pred = np.dot(X_i,theta)\n",
        "\n",
        "                theta = theta -(1/len(y))*learning_rate*( X_i.T.dot((pred - y_i)))\n",
        "                cost += fn_cost(theta,X_i,y_i)\n",
        "            cost_history[it]  = cost\n",
        "        \n",
        "        return theta, cost_history"
      ],
      "execution_count": 8,
      "outputs": []
    },
    {
      "cell_type": "markdown",
      "metadata": {
        "id": "s167a-MVlYHT"
      },
      "source": [
        "##Stochastic Sub-Gradient\n",
        "For comparison purpose only"
      ]
    },
    {
      "cell_type": "code",
      "metadata": {
        "id": "gXXPC-2BfhBG"
      },
      "source": [
        "def add_subgrad(w, subgradient_w):\n",
        "    \"\"\"\n",
        "    total_w = w + C *  ∑ (-y*x)\n",
        "    \n",
        "    \"\"\"\n",
        "    return w + subgradient_w"
      ],
      "execution_count": null,
      "outputs": []
    },
    {
      "cell_type": "code",
      "metadata": {
        "id": "mY6DP3m3fkLH"
      },
      "source": [
        "def calc_subgradient(x, y, w, b, tradeoff):\n",
        "   \n",
        "    subgrad_w = 0\n",
        "    subgrad_b = 0\n",
        "    \n",
        "    # sum over all subgradients of hinge loss for a given samples x,y\n",
        "    for xi, yi in zip(x,y):\n",
        "        fxi = np.dot(w.T, xi) + b\n",
        "\n",
        "        threshold_val = yi * fxi\n",
        "\n",
        "        if threshold_val < 1:\n",
        "            subgrad_w += - yi*xi\n",
        "            subgrad_b += -1 * yi\n",
        "        else:\n",
        "            subgrad_w += 0\n",
        "            subgrad_b += 0\n",
        "    \n",
        "    # multiply by C after summation of all subgradients for a given samples of x,y\n",
        "    subgrad_w = tradeoff * subgrad_w\n",
        "    subgrad_b = tradeoff * subgrad_b\n",
        "    return (add_subgrad(w, subgrad_w), subgrad_b)"
      ],
      "execution_count": null,
      "outputs": []
    },
    {
      "cell_type": "code",
      "metadata": {
        "id": "wWTIv9sZfsE0"
      },
      "source": [
        "def stochastic_subgrad(X, y, w, b, tradeoff, itr=50):\n",
        "    \n",
        "    for t in range(1, itr+1):\n",
        "        learning_rate = 1/t        \n",
        "        for i in range(0, y.shape[1]):\n",
        "          #print(y[:,i])\n",
        "          sub_grads = calc_subgradient(X,y[:,i], w, b, tradeoff)\n",
        "        \n",
        "        # update weights\n",
        "          w = w - learning_rate * sub_grads[0]\n",
        "        \n",
        "        # update bias\n",
        "          b = b - learning_rate * sub_grads[1]\n",
        "    return (w,b)"
      ],
      "execution_count": null,
      "outputs": []
    },
    {
      "cell_type": "markdown",
      "metadata": {
        "id": "wqSBqpTHle3N"
      },
      "source": [
        "##Initialization\n",
        "Initializing Graph G, X, y, number of samples N, number of features J and number of tasks K"
      ]
    },
    {
      "cell_type": "code",
      "metadata": {
        "id": "sD1VaHrhfz4L"
      },
      "source": [
        "\n",
        "N, J, K = 1000, 30, 40 # N = number of samples, J = features, K = tasks\n",
        "n_relevant_features = 5\n",
        "coef = np.zeros((K, J))\n",
        "times = np.linspace(0, 2 * np.pi, K // 2)\n",
        "for k in range(n_relevant_features):\n",
        "    coef[:K // 2, k] = np.sin((1. + rng.randn(1)) * times + 3 * rng.randn(1))\n",
        "    coef[K // 2:, k] = coef[:K // 2, k]\n",
        "\n",
        "X = rng.randn(N, J)\n",
        "#X=np.random.normal(0, 1, size=(N, J))\n",
        "y = np.dot(X, coef.T) + rng.randn(N, K)\n",
        "X_train, X_test, y_train, y_test = train_test_split(X, y, test_size=.7,\n",
        "                                                    random_state=42)\n",
        "\n",
        "G = np.identity(K)\n",
        "\n",
        "for j in range(K // 2):\n",
        "    G[j, K // 2 + j] = G[K // 2 + j, j] = 1.0\n"
      ],
      "execution_count": null,
      "outputs": []
    },
    {
      "cell_type": "markdown",
      "metadata": {
        "id": "b-X4gboMl6_s"
      },
      "source": [
        "##GFLasso Model with Proximal Gradient Method\n",
        "Also computes false positive rate and true positive rate for each relevant feature"
      ]
    },
    {
      "cell_type": "code",
      "metadata": {
        "colab": {
          "base_uri": "https://localhost:8080/"
        },
        "id": "OZMo971hanku",
        "outputId": "981ff399-7578-4304-8da5-295ff329fa4a"
      },
      "source": [
        "grad_func=1\n",
        "gflasso_model = GraphFusedLasso(G, verbose=True, max_iterations=1000, lambda_val=2., epsilon=1.).fit(X_train, y_train)\n",
        "gflasso_coefficients_ = gflasso_model.coef_\n",
        "\n",
        "rho = 0.5\n",
        "gflasso_coefficients = np.zeros_like(gflasso_coefficients_)\n",
        "gflasso_coefficients[gflasso_coefficients_ < rho] = 0\n",
        "\n",
        "from sklearn.metrics import roc_auc_score, roc_curve, auc\n",
        "\n",
        "y_pred=gflasso_model.gflasso_prediction(X_test)\n",
        "y_test_classes = np.zeros_like(y_pred)\n",
        "cutoff = 0.1   \n",
        "y_test_classes[y_test > cutoff] = 1\n",
        "fpr_gfl = dict()\n",
        "tpr_gfl = dict()\n",
        "\n",
        "for i in range(n_relevant_features):\n",
        "    fpr_gfl[i], tpr_gfl[i], _ = roc_curve(y_test_classes[:, i], y_pred[:,i])\n",
        "    auc = roc_auc_score(y_test_classes[:, i], y_pred[:,i] )\n",
        "    print(\"Area under ROC curve for relevant feature at index {0}: {1:e}\".format(i,auc))"
      ],
      "execution_count": 10,
      "outputs": [
        {
          "output_type": "stream",
          "text": [
            "894\n",
            "0.85511066003143\n",
            "0.920350493959974\n",
            "0.907702915681639\n",
            "0.9092051985370951\n",
            "0.9242883150598818\n"
          ],
          "name": "stdout"
        }
      ]
    },
    {
      "cell_type": "markdown",
      "metadata": {
        "id": "9vmp1rXKmJ34"
      },
      "source": [
        "##Lasso Model\n",
        "Also computes false positive rate and true positive rate for each relevant feature"
      ]
    },
    {
      "cell_type": "code",
      "metadata": {
        "id": "yS1-6ZDjih6F"
      },
      "source": [
        "lasso_model = Lasso(alpha=0.5).fit(X, y)\n",
        "lasso_coefficients = lasso_model.coef_\n",
        "\n",
        "fpr_lasso = dict()\n",
        "tpr_lasso = dict()\n",
        "\n",
        "y_pred_lasso = lasso_model.predict(X_test)[:,1]\n",
        "\n",
        "for i in range(n_relevant_features):\n",
        "    fpr_lasso[i], tpr_lasso[i], _ = roc_curve(y_test_classes[:, i], y_pred_lasso[:])"
      ],
      "execution_count": 11,
      "outputs": []
    },
    {
      "cell_type": "markdown",
      "metadata": {
        "id": "rg5wKC79mPFy"
      },
      "source": [
        "##MultiTaskLasso Model\n",
        "Also computes false positive rate and true positive rate for each relevant feature"
      ]
    },
    {
      "cell_type": "code",
      "metadata": {
        "id": "jxC3CXLbn0vh"
      },
      "source": [
        "multi_task_model = MultiTaskLasso(alpha=1.).fit(X, y)\n",
        "multi_task_lasso_coefficients = multi_task_model.coef_\n",
        "fpr_l1l2 = dict()\n",
        "tpr_l1l2 = dict()\n",
        "\n",
        "y_pred_l1l2 = multi_task_model.predict(X_test)[:,1]\n",
        "\n",
        "for i in range(n_relevant_features):\n",
        "    fpr_l1l2[i], tpr_l1l2[i], _ = roc_curve(y_test_classes[:, i], y_pred_l1l2[:])\n"
      ],
      "execution_count": 12,
      "outputs": []
    },
    {
      "cell_type": "markdown",
      "metadata": {
        "id": "Wl9aXXWkmWeh"
      },
      "source": [
        "##ROC Curve\n",
        "ROC Curve for GFLasso, Lasso and MultiTaskLasso Models"
      ]
    },
    {
      "cell_type": "code",
      "metadata": {
        "colab": {
          "base_uri": "https://localhost:8080/",
          "height": 295
        },
        "id": "CV455uN4olpa",
        "outputId": "e362cf4d-304a-4925-ebac-94ef4cf8fbe0"
      },
      "source": [
        "\n",
        "from matplotlib import pyplot as plt\n",
        "plt.plot([0, 1], [0, 1], 'k--')\n",
        "plt.plot(fpr_lasso[2], tpr_lasso[2], label='Lasso')\n",
        "plt.plot(fpr_l1l2[2], tpr_l1l2[2], label='l1l2')\n",
        "plt.plot(fpr_gfl[2], tpr_gfl[2], label='GFLasso')\n",
        "\n",
        "plt.xlabel('False positive rate')\n",
        "plt.ylabel('True positive rate')\n",
        "plt.title('ROC curve')\n",
        "plt.legend(loc='best')\n",
        "from google.colab import files\n",
        "plt.savefig(\"ROC_idx_2.png\")\n",
        "files.download(\"ROC_idx_2.png\") \n",
        "plt.show()\n"
      ],
      "execution_count": 15,
      "outputs": [
        {
          "output_type": "display_data",
          "data": {
            "application/javascript": [
              "\n",
              "    async function download(id, filename, size) {\n",
              "      if (!google.colab.kernel.accessAllowed) {\n",
              "        return;\n",
              "      }\n",
              "      const div = document.createElement('div');\n",
              "      const label = document.createElement('label');\n",
              "      label.textContent = `Downloading \"${filename}\": `;\n",
              "      div.appendChild(label);\n",
              "      const progress = document.createElement('progress');\n",
              "      progress.max = size;\n",
              "      div.appendChild(progress);\n",
              "      document.body.appendChild(div);\n",
              "\n",
              "      const buffers = [];\n",
              "      let downloaded = 0;\n",
              "\n",
              "      const channel = await google.colab.kernel.comms.open(id);\n",
              "      // Send a message to notify the kernel that we're ready.\n",
              "      channel.send({})\n",
              "\n",
              "      for await (const message of channel.messages) {\n",
              "        // Send a message to notify the kernel that we're ready.\n",
              "        channel.send({})\n",
              "        if (message.buffers) {\n",
              "          for (const buffer of message.buffers) {\n",
              "            buffers.push(buffer);\n",
              "            downloaded += buffer.byteLength;\n",
              "            progress.value = downloaded;\n",
              "          }\n",
              "        }\n",
              "      }\n",
              "      const blob = new Blob(buffers, {type: 'application/binary'});\n",
              "      const a = document.createElement('a');\n",
              "      a.href = window.URL.createObjectURL(blob);\n",
              "      a.download = filename;\n",
              "      div.appendChild(a);\n",
              "      a.click();\n",
              "      div.remove();\n",
              "    }\n",
              "  "
            ],
            "text/plain": [
              "<IPython.core.display.Javascript object>"
            ]
          },
          "metadata": {
            "tags": []
          }
        },
        {
          "output_type": "display_data",
          "data": {
            "application/javascript": [
              "download(\"download_7201ab99-a5c8-47c8-8334-bc58cd583f91\", \"ROC_idx_2.png\", 18229)"
            ],
            "text/plain": [
              "<IPython.core.display.Javascript object>"
            ]
          },
          "metadata": {
            "tags": []
          }
        },
        {
          "output_type": "display_data",
          "data": {
            "image/png": "[encoded data removed]",
            "text/plain": [
              "<Figure size 432x288 with 1 Axes>"
            ]
          },
          "metadata": {
            "tags": [],
            "needs_background": "light"
          }
        }
      ]
    },
    {
      "cell_type": "markdown",
      "metadata": {
        "id": "VXRdH6e3me1q"
      },
      "source": [
        "##Regression Coefficients for all models"
      ]
    },
    {
      "cell_type": "code",
      "metadata": {
        "colab": {
          "base_uri": "https://localhost:8080/",
          "height": 321
        },
        "id": "6oW1Q776d4v-",
        "outputId": "60437080-c80e-49db-88fc-29cc0c403015"
      },
      "source": [
        "fig = plt.figure(figsize=(16, 5))\n",
        "plt.subplot(1, 4, 1)\n",
        "plt.imshow(coef)\n",
        "plt.xlabel('Feature')\n",
        "plt.ylabel('Task)')\n",
        "plt.text(10, 5, 'Ground truth')\n",
        "plt.subplot(1, 4, 2)\n",
        "plt.imshow(lasso_coefficients)\n",
        "plt.xlabel('Feature')\n",
        "plt.text(10, 5, 'Lasso')\n",
        "plt.subplot(1, 4, 3)\n",
        "plt.imshow(multi_task_lasso_coefficients)\n",
        "plt.xlabel('Feature')\n",
        "plt.text(10, 5, 'MultiTaskLasso')\n",
        "plt.subplot(1, 4, 4)\n",
        "plt.imshow(gflasso_coefficients_)\n",
        "plt.xlabel('Feature')\n",
        "plt.text(10, 5, 'GraphFusedLasso')\n",
        "from google.colab import files\n",
        "plt.savefig(\"Coeffs.png\")\n",
        "files.download(\"Coeffs.png\") \n",
        "plt.show()"
      ],
      "execution_count": 52,
      "outputs": [
        {
          "output_type": "display_data",
          "data": {
            "application/javascript": [
              "\n",
              "    async function download(id, filename, size) {\n",
              "      if (!google.colab.kernel.accessAllowed) {\n",
              "        return;\n",
              "      }\n",
              "      const div = document.createElement('div');\n",
              "      const label = document.createElement('label');\n",
              "      label.textContent = `Downloading \"${filename}\": `;\n",
              "      div.appendChild(label);\n",
              "      const progress = document.createElement('progress');\n",
              "      progress.max = size;\n",
              "      div.appendChild(progress);\n",
              "      document.body.appendChild(div);\n",
              "\n",
              "      const buffers = [];\n",
              "      let downloaded = 0;\n",
              "\n",
              "      const channel = await google.colab.kernel.comms.open(id);\n",
              "      // Send a message to notify the kernel that we're ready.\n",
              "      channel.send({})\n",
              "\n",
              "      for await (const message of channel.messages) {\n",
              "        // Send a message to notify the kernel that we're ready.\n",
              "        channel.send({})\n",
              "        if (message.buffers) {\n",
              "          for (const buffer of message.buffers) {\n",
              "            buffers.push(buffer);\n",
              "            downloaded += buffer.byteLength;\n",
              "            progress.value = downloaded;\n",
              "          }\n",
              "        }\n",
              "      }\n",
              "      const blob = new Blob(buffers, {type: 'application/binary'});\n",
              "      const a = document.createElement('a');\n",
              "      a.href = window.URL.createObjectURL(blob);\n",
              "      a.download = filename;\n",
              "      div.appendChild(a);\n",
              "      a.click();\n",
              "      div.remove();\n",
              "    }\n",
              "  "
            ],
            "text/plain": [
              "<IPython.core.display.Javascript object>"
            ]
          },
          "metadata": {
            "tags": []
          }
        },
        {
          "output_type": "display_data",
          "data": {
            "application/javascript": [
              "download(\"download_911ae02f-7513-4988-8821-3629d6ee7fda\", \"Coeffs.png\", 22200)"
            ],
            "text/plain": [
              "<IPython.core.display.Javascript object>"
            ]
          },
          "metadata": {
            "tags": []
          }
        },
        {
          "output_type": "display_data",
          "data": {
            "image/png": "[encoded data removed]",
            "text/plain": [
              "<Figure size 1152x360 with 4 Axes>"
            ]
          },
          "metadata": {
            "tags": [],
            "needs_background": "light"
          }
        }
      ]
    },
    {
      "cell_type": "code",
      "metadata": {
        "colab": {
          "base_uri": "https://localhost:8080/",
          "height": 336
        },
        "id": "odYkADY-d_co",
        "outputId": "cff5e641-34a5-4489-f311-18d877a9ecae"
      },
      "source": [
        "fig = plt.figure(figsize=(14, 5))\n",
        "lw = 2\n",
        "feature_to_plot = 4\n",
        "plt.plot(coef[:, feature_to_plot], linewidth=lw,\n",
        "         label='Ground truth')\n",
        "plt.plot(lasso_coefficients[:, feature_to_plot], linewidth=lw,\n",
        "         label='Lasso')\n",
        "plt.plot(multi_task_lasso_coefficients[:, feature_to_plot], linewidth=lw,\n",
        "         label='MultiTaskLasso')\n",
        "plt.plot(gflasso_coefficients_[:, feature_to_plot], linewidth=lw,\n",
        "         label='GraphFusedLasso')\n",
        "plt.legend(loc='lower center')\n",
        "plt.axis('tight')\n",
        "plt.title(\"Feature index: {}\".format(feature_to_plot))\n",
        "plt.ylim([-1.1, 1.1])\n",
        "\n",
        "from google.colab import files\n",
        "plt.savefig(\"Feature.png\")\n",
        "files.download(\"Feature.png\") \n",
        "plt.show()"
      ],
      "execution_count": 50,
      "outputs": [
        {
          "output_type": "display_data",
          "data": {
            "application/javascript": [
              "\n",
              "    async function download(id, filename, size) {\n",
              "      if (!google.colab.kernel.accessAllowed) {\n",
              "        return;\n",
              "      }\n",
              "      const div = document.createElement('div');\n",
              "      const label = document.createElement('label');\n",
              "      label.textContent = `Downloading \"${filename}\": `;\n",
              "      div.appendChild(label);\n",
              "      const progress = document.createElement('progress');\n",
              "      progress.max = size;\n",
              "      div.appendChild(progress);\n",
              "      document.body.appendChild(div);\n",
              "\n",
              "      const buffers = [];\n",
              "      let downloaded = 0;\n",
              "\n",
              "      const channel = await google.colab.kernel.comms.open(id);\n",
              "      // Send a message to notify the kernel that we're ready.\n",
              "      channel.send({})\n",
              "\n",
              "      for await (const message of channel.messages) {\n",
              "        // Send a message to notify the kernel that we're ready.\n",
              "        channel.send({})\n",
              "        if (message.buffers) {\n",
              "          for (const buffer of message.buffers) {\n",
              "            buffers.push(buffer);\n",
              "            downloaded += buffer.byteLength;\n",
              "            progress.value = downloaded;\n",
              "          }\n",
              "        }\n",
              "      }\n",
              "      const blob = new Blob(buffers, {type: 'application/binary'});\n",
              "      const a = document.createElement('a');\n",
              "      a.href = window.URL.createObjectURL(blob);\n",
              "      a.download = filename;\n",
              "      div.appendChild(a);\n",
              "      a.click();\n",
              "      div.remove();\n",
              "    }\n",
              "  "
            ],
            "text/plain": [
              "<IPython.core.display.Javascript object>"
            ]
          },
          "metadata": {
            "tags": []
          }
        },
        {
          "output_type": "display_data",
          "data": {
            "application/javascript": [
              "download(\"download_90f22719-e828-499c-99d2-dda61095cf28\", \"Feature.png\", 84997)"
            ],
            "text/plain": [
              "<IPython.core.display.Javascript object>"
            ]
          },
          "metadata": {
            "tags": []
          }
        },
        {
          "output_type": "display_data",
          "data": {
            "image/png": "[encoded data removed]",
            "text/plain": [
              "<Figure size 1008x360 with 1 Axes>"
            ]
          },
          "metadata": {
            "tags": [],
            "needs_background": "light"
          }
        }
      ]
    },
    {
      "cell_type": "markdown",
      "metadata": {
        "id": "IQ9HaKRimtss"
      },
      "source": [
        "##Heatmap of relevant feature"
      ]
    },
    {
      "cell_type": "code",
      "metadata": {
        "colab": {
          "base_uri": "https://localhost:8080/",
          "height": 269
        },
        "id": "c-5A_d0VeZRm",
        "outputId": "c8437e1b-b516-4067-cd8e-2b79551500f8"
      },
      "source": [
        "import seaborn as sns\n",
        "\n",
        "import pandas as pd\n",
        "X=pd.DataFrame(X)\n",
        "# taking all rows but only 5 columns\n",
        "df_small = X.iloc[:,:n_relevant_features]\n",
        "\n",
        "correlation_mat = df_small.corr()\n",
        "\n",
        "sns.heatmap(correlation_mat, annot = True)\n",
        "from google.colab import files\n",
        "plt.savefig(\"Heatmap.png\")\n",
        "files.download(\"Heatmap.png\") \n",
        "plt.show()"
      ],
      "execution_count": 51,
      "outputs": [
        {
          "output_type": "display_data",
          "data": {
            "application/javascript": [
              "\n",
              "    async function download(id, filename, size) {\n",
              "      if (!google.colab.kernel.accessAllowed) {\n",
              "        return;\n",
              "      }\n",
              "      const div = document.createElement('div');\n",
              "      const label = document.createElement('label');\n",
              "      label.textContent = `Downloading \"${filename}\": `;\n",
              "      div.appendChild(label);\n",
              "      const progress = document.createElement('progress');\n",
              "      progress.max = size;\n",
              "      div.appendChild(progress);\n",
              "      document.body.appendChild(div);\n",
              "\n",
              "      const buffers = [];\n",
              "      let downloaded = 0;\n",
              "\n",
              "      const channel = await google.colab.kernel.comms.open(id);\n",
              "      // Send a message to notify the kernel that we're ready.\n",
              "      channel.send({})\n",
              "\n",
              "      for await (const message of channel.messages) {\n",
              "        // Send a message to notify the kernel that we're ready.\n",
              "        channel.send({})\n",
              "        if (message.buffers) {\n",
              "          for (const buffer of message.buffers) {\n",
              "            buffers.push(buffer);\n",
              "            downloaded += buffer.byteLength;\n",
              "            progress.value = downloaded;\n",
              "          }\n",
              "        }\n",
              "      }\n",
              "      const blob = new Blob(buffers, {type: 'application/binary'});\n",
              "      const a = document.createElement('a');\n",
              "      a.href = window.URL.createObjectURL(blob);\n",
              "      a.download = filename;\n",
              "      div.appendChild(a);\n",
              "      a.click();\n",
              "      div.remove();\n",
              "    }\n",
              "  "
            ],
            "text/plain": [
              "<IPython.core.display.Javascript object>"
            ]
          },
          "metadata": {
            "tags": []
          }
        },
        {
          "output_type": "display_data",
          "data": {
            "application/javascript": [
              "download(\"download_d59c478a-9e59-4e71-8522-d391ab860130\", \"Heatmap.png\", 17964)"
            ],
            "text/plain": [
              "<IPython.core.display.Javascript object>"
            ]
          },
          "metadata": {
            "tags": []
          }
        },
        {
          "output_type": "display_data",
          "data": {
            "image/png": "[encoded data removed]",
            "text/plain": [
              "<Figure size 432x288 with 2 Axes>"
            ]
          },
          "metadata": {
            "tags": [],
            "needs_background": "light"
          }
        }
      ]
    },
    {
      "cell_type": "markdown",
      "metadata": {
        "id": "1WkfHQKsm5x2"
      },
      "source": [
        "##Evaluation in terms of J\n",
        "varying value of J from 1000 to 10000 with step size of 1000"
      ]
    },
    {
      "cell_type": "code",
      "metadata": {
        "colab": {
          "base_uri": "https://localhost:8080/"
        },
        "id": "KmI8X-qqlDzX",
        "outputId": "8393bb54-868e-4494-d8d3-84a3863f0e9b"
      },
      "source": [
        "import time\n",
        "\n",
        "comp_time_J_prox = []\n",
        "comp_time_J_sgd = []\n",
        "comp_time_J_subg = []\n",
        "for J in range(1000,10000,1000):\n",
        "\n",
        "  N, K = 1000, 40 # N = number of samples, J = features, K = tasks\n",
        "  n_relevant_features = 5\n",
        "  coef = np.zeros((K, J))\n",
        "  c = np.linspace(0, 2 * np.pi, K // 2)\n",
        "  for k in range(n_relevant_features):\n",
        "      coef[:K // 2, k] = np.sin((1. + rng.randn(1)) * c + 2 * rng.randn(1))\n",
        "      coef[K // 2:, k] = coef[:K // 2, k]\n",
        "\n",
        "  #X = rng.randn(N, J)\n",
        "  X=np.random.normal(0, 1, size=(N, J))\n",
        "  y = np.dot(X, coef.T) + rng.randn(N, K)\n",
        "  X_train, X_test, y_train, y_test = train_test_split(X, y, test_size=.7,\n",
        "                                                      random_state=42)\n",
        "  \n",
        "  G = np.identity(K)\n",
        "  grad_func=1\n",
        "  for j in range(K // 2):\n",
        "      G[j, K // 2 + j] = G[K // 2 + j, j] = 1.0\n",
        "\n",
        "  \n",
        "  print(\"J = {0} for Proximal Gradient Function\".format(J))\n",
        "  start_time = time.time()\n",
        "  gflasso_model = GraphFusedLasso(G, verbose=True, max_iterations=1000, lambda_val=2., epsilon=1.,grad_func=1).fit(X, y)\n",
        "  end_time = time.time()\n",
        "  comp_time_J_prox.append(end_time - start_time)\n",
        "  grad_func=2\n",
        "  \n",
        "  print(\"J = {0} for Stochastic Gradient Function\".format(J))\n",
        "  start_time = time.time()\n",
        "  lr =0.5\n",
        "  n_iter = 50\n",
        "  theta = np.random.randn(J+1,1)\n",
        "  X_b = np.c_[np.ones((len(X),1)),X]\n",
        "  gflasso_model = GraphFusedLasso(G, theta,X_b,lr,n_iter=n_iter, verbose=True, max_iterations=1000, lambda_val=2., epsilon=1,grad_func=2).fit(X, y)\n",
        "  end_time = time.time()\n",
        "  comp_time_J_sgd.append(end_time - start_time)\n",
        "\n",
        "  print(\"J = {0} for Stochastic Sub-Gradient Function\".format(J))\n",
        "  start_time = time.time()\n",
        "  gflasso_model = GraphFusedLasso(G, verbose=True,grad_func=3, n_iter=50).fit(X, y)\n",
        "  end_time = time.time()\n",
        "  comp_time_J_subg.append(end_time - start_time)\n",
        "print(comp_time_J_prox)\n",
        "print(comp_time_J_subg)"
      ],
      "execution_count": null,
      "outputs": [
        {
          "output_type": "stream",
          "text": [
            "J = 1000 for Proximal Gradient Function\n",
            "J = 1000 for Stochastic Gradient Function\n",
            "J = 1000 for Stochastic Sub-Gradient Function\n",
            "J = 2000 for Proximal Gradient Function\n",
            "J = 2000 for Stochastic Gradient Function\n",
            "J = 2000 for Stochastic Sub-Gradient Function\n",
            "J = 3000 for Proximal Gradient Function\n",
            "J = 3000 for Stochastic Gradient Function\n",
            "J = 3000 for Stochastic Sub-Gradient Function\n",
            "J = 4000 for Proximal Gradient Function\n",
            "J = 4000 for Stochastic Gradient Function\n",
            "J = 4000 for Stochastic Sub-Gradient Function\n",
            "J = 5000 for Proximal Gradient Function\n",
            "J = 5000 for Stochastic Gradient Function\n",
            "J = 5000 for Stochastic Sub-Gradient Function\n",
            "J = 6000 for Proximal Gradient Function\n",
            "J = 6000 for Stochastic Gradient Function\n",
            "J = 6000 for Stochastic Sub-Gradient Function\n",
            "J = 7000 for Proximal Gradient Function\n",
            "J = 7000 for Stochastic Gradient Function\n",
            "J = 7000 for Stochastic Sub-Gradient Function\n",
            "J = 8000 for Proximal Gradient Function\n",
            "J = 8000 for Stochastic Gradient Function\n",
            "J = 8000 for Stochastic Sub-Gradient Function\n",
            "J = 9000 for Proximal Gradient Function\n",
            "J = 9000 for Stochastic Gradient Function\n",
            "J = 9000 for Stochastic Sub-Gradient Function\n",
            "[27.635534524917603, 156.98772144317627, 237.92661786079407, 338.9670236110687, 461.8965120315552, 603.6267650127411, 767.9135549068451, 1009.3803911209106, 1247.4318089485168]\n",
            "[19.56251883506775, 38.655545234680176, 68.99516272544861, 112.98547172546387, 176.2457036972046, 265.03818678855896, 374.0092215538025, 541.7422027587891, 712.4587500095367]\n",
            "[20.421093702316284, 38.149115324020386, 68.76089596748352, 112.44459652900696, 175.34537506103516, 265.1817409992218, 387.21791982650757, 535.1038284301758, 716.0683045387268]\n"
          ],
          "name": "stdout"
        }
      ]
    },
    {
      "cell_type": "code",
      "metadata": {
        "colab": {
          "base_uri": "https://localhost:8080/",
          "height": 265
        },
        "id": "eOx-bDCmk2wI",
        "outputId": "504f5906-dfee-4feb-c3db-53a7c0f65a12"
      },
      "source": [
        "# Random X\n",
        "comp_time_J_prox=[24.543862342834473, 151.35878896713257, 232.7870545387268, 325.7700753211975, 437.12480187416077, 570.6482968330383, 737.5211029052734, 926.0571410655975, 1143.4936137199402]\n",
        "comp_time_J_subg=[18.299408435821533, 36.21959400177002, 64.98038983345032, 107.28624105453491, 163.075453042984, 244.21183276176453, 343.64225935935974, 475.861576795578, 653.4304647445679]\n",
        "\n",
        "#Normal Distribution X\n",
        "#comp_time_J_prox = [27.635534524917603, 156.98772144317627, 237.92661786079407, 338.9670236110687, 461.8965120315552, 603.6267650127411, 767.9135549068451, 1009.3803911209106, 1247.4318089485168]\n",
        "#comp_time_J_subg = [20.421093702316284, 38.149115324020386, 68.76089596748352, 112.44459652900696, 175.34537506103516, 265.1817409992218, 387.21791982650757, 535.1038284301758, 716.0683045387268]\n",
        "\n",
        "a = [pow(10, i) for i in range(10)]\n",
        "fig = plt.figure()\n",
        "\n",
        "J_new=[]\n",
        "for i in range(1000,10000,1000):\n",
        "  J_new.append(i)\n",
        "\n",
        "plt.plot(J_new, comp_time_J_prox, label='Prox_grad', linestyle='--', marker='o')\n",
        "plt.plot(J_new, comp_time_J_subg, label='SubGrad', linestyle='--', marker='o')\n",
        "plt.yscale(\"log\")\n",
        "plt.legend(loc='best')\n",
        "from google.colab import files\n",
        "plt.savefig(\"Evaluation_Varying_J_Random_X.png\")\n",
        "files.download(\"Evaluation_Varying_J_Random_X.png\") \n",
        "plt.show()"
      ],
      "execution_count": null,
      "outputs": [
        {
          "output_type": "display_data",
          "data": {
            "application/javascript": [
              "\n",
              "    async function download(id, filename, size) {\n",
              "      if (!google.colab.kernel.accessAllowed) {\n",
              "        return;\n",
              "      }\n",
              "      const div = document.createElement('div');\n",
              "      const label = document.createElement('label');\n",
              "      label.textContent = `Downloading \"${filename}\": `;\n",
              "      div.appendChild(label);\n",
              "      const progress = document.createElement('progress');\n",
              "      progress.max = size;\n",
              "      div.appendChild(progress);\n",
              "      document.body.appendChild(div);\n",
              "\n",
              "      const buffers = [];\n",
              "      let downloaded = 0;\n",
              "\n",
              "      const channel = await google.colab.kernel.comms.open(id);\n",
              "      // Send a message to notify the kernel that we're ready.\n",
              "      channel.send({})\n",
              "\n",
              "      for await (const message of channel.messages) {\n",
              "        // Send a message to notify the kernel that we're ready.\n",
              "        channel.send({})\n",
              "        if (message.buffers) {\n",
              "          for (const buffer of message.buffers) {\n",
              "            buffers.push(buffer);\n",
              "            downloaded += buffer.byteLength;\n",
              "            progress.value = downloaded;\n",
              "          }\n",
              "        }\n",
              "      }\n",
              "      const blob = new Blob(buffers, {type: 'application/binary'});\n",
              "      const a = document.createElement('a');\n",
              "      a.href = window.URL.createObjectURL(blob);\n",
              "      a.download = filename;\n",
              "      div.appendChild(a);\n",
              "      a.click();\n",
              "      div.remove();\n",
              "    }\n",
              "  "
            ],
            "text/plain": [
              "<IPython.core.display.Javascript object>"
            ]
          },
          "metadata": {
            "tags": []
          }
        },
        {
          "output_type": "display_data",
          "data": {
            "application/javascript": [
              "download(\"download_03e216ee-e345-44ec-b4aa-bfaf6af3a76d\", \"Evaluation_Varying_J_Random_X.png\", 14755)"
            ],
            "text/plain": [
              "<IPython.core.display.Javascript object>"
            ]
          },
          "metadata": {
            "tags": []
          }
        },
        {
          "output_type": "display_data",
          "data": {
            "image/png": "[encoded data removed]",
            "text/plain": [
              "<Figure size 432x288 with 1 Axes>"
            ]
          },
          "metadata": {
            "tags": [],
            "needs_background": "light"
          }
        }
      ]
    },
    {
      "cell_type": "markdown",
      "metadata": {
        "id": "pfB61sYTnAJj"
      },
      "source": [
        "##Evaluation in terms of N\n",
        "varying value of N from 500 to 10000 with step size of 1000"
      ]
    },
    {
      "cell_type": "code",
      "metadata": {
        "colab": {
          "base_uri": "https://localhost:8080/"
        },
        "id": "EiZwbVKFkriJ",
        "outputId": "87a3b320-66ec-4350-ead0-3ebafc7b33e1"
      },
      "source": [
        "comp_time_N_prox = []\n",
        "comp_time_N_sgd = []\n",
        "comp_time_N_subg = []\n",
        "for N in range(500,10000,500):\n",
        "\n",
        "  J, K = 30, 40 # N = number of samples, J = features, K = tasks\n",
        "  n_relevant_features = 5\n",
        "  coef = np.zeros((K, J))\n",
        "  c = np.linspace(0, 2 * np.pi, K // 2)\n",
        "  for k in range(n_relevant_features):\n",
        "      coef[:K // 2, k] = np.sin((1. + rng.randn(1)) * c + 2 * rng.randn(1))\n",
        "      coef[K // 2:, k] = coef[:K // 2, k]\n",
        "\n",
        "  #X = rng.randn(N, J)\n",
        "  X=np.random.normal(0, 1, size=(N, J))\n",
        "  y = np.dot(X, coef.T) + rng.randn(N, K)\n",
        "  X_train, X_test, y_train, y_test = train_test_split(X, y, test_size=.7,\n",
        "                                                      random_state=42)\n",
        "  \n",
        "  G = np.identity(K)\n",
        "  grad_func=1\n",
        "  for j in range(K // 2):\n",
        "      G[j, K // 2 + j] = G[K // 2 + j, j] = 1.0\n",
        "  start_time = time.time()\n",
        "  print(\"N = {0} for Proximal Gradient Function\".format(N))\n",
        "  gflasso_model = GraphFusedLasso(G, verbose=True, max_iterations=1000, lambda_val=2., epsilon=1.,grad_func=1).fit(X, y)\n",
        "  end_time = time.time()\n",
        "  comp_time_N_prox.append(end_time - start_time)\n",
        "  grad_func=2\n",
        "  \n",
        "  print(\"N = {0} for Stochastic Gradient Function\".format(N))\n",
        "  start_time = time.time()\n",
        "  lr =0.5\n",
        "  n_iter = 50\n",
        "  theta = np.random.randn(J+1,1)\n",
        "  X_b = np.c_[np.ones((len(X),1)),X]\n",
        "  gflasso_model = GraphFusedLasso(G, theta,X_b,lr,n_iter=n_iter, verbose=True, max_iterations=1000, lambda_val=2., epsilon=1,grad_func=2).fit(X, y)\n",
        "  end_time = time.time()\n",
        "  comp_time_N_sgd.append(end_time - start_time)\n",
        "\n",
        "  print(\"N = {0} for Stochastic Sub-Gradient Function\".format(N))\n",
        "  start_time = time.time()\n",
        "  gflasso_model = GraphFusedLasso(G, verbose=True,grad_func=3, n_iter=50).fit(X, y)\n",
        "  end_time = time.time()\n",
        "  comp_time_N_subg.append(end_time - start_time)\n",
        "print(comp_time_N_prox)\n",
        "print(comp_time_N_subg)"
      ],
      "execution_count": null,
      "outputs": [
        {
          "output_type": "stream",
          "text": [
            "N = 500 for Proximal Gradient Function\n",
            "N = 500 for Stochastic Gradient Function\n",
            "N = 500 for Stochastic Sub-Gradient Function\n",
            "N = 1000 for Proximal Gradient Function\n",
            "N = 1000 for Stochastic Gradient Function\n",
            "N = 1000 for Stochastic Sub-Gradient Function\n",
            "N = 1500 for Proximal Gradient Function\n",
            "N = 1500 for Stochastic Gradient Function\n",
            "N = 1500 for Stochastic Sub-Gradient Function\n",
            "N = 2000 for Proximal Gradient Function\n",
            "N = 2000 for Stochastic Gradient Function\n",
            "N = 2000 for Stochastic Sub-Gradient Function\n",
            "N = 2500 for Proximal Gradient Function\n",
            "N = 2500 for Stochastic Gradient Function\n",
            "N = 2500 for Stochastic Sub-Gradient Function\n",
            "N = 3000 for Proximal Gradient Function\n",
            "N = 3000 for Stochastic Gradient Function\n",
            "N = 3000 for Stochastic Sub-Gradient Function\n",
            "N = 3500 for Proximal Gradient Function\n",
            "N = 3500 for Stochastic Gradient Function\n",
            "N = 3500 for Stochastic Sub-Gradient Function\n",
            "N = 4000 for Proximal Gradient Function\n",
            "N = 4000 for Stochastic Gradient Function\n",
            "N = 4000 for Stochastic Sub-Gradient Function\n",
            "N = 4500 for Proximal Gradient Function\n",
            "N = 4500 for Stochastic Gradient Function\n",
            "N = 4500 for Stochastic Sub-Gradient Function\n",
            "N = 5000 for Proximal Gradient Function\n",
            "N = 5000 for Stochastic Gradient Function\n",
            "N = 5000 for Stochastic Sub-Gradient Function\n",
            "N = 5500 for Proximal Gradient Function\n",
            "N = 5500 for Stochastic Gradient Function\n",
            "N = 5500 for Stochastic Sub-Gradient Function\n",
            "N = 6000 for Proximal Gradient Function\n",
            "N = 6000 for Stochastic Gradient Function\n",
            "N = 6000 for Stochastic Sub-Gradient Function\n",
            "N = 6500 for Proximal Gradient Function\n",
            "N = 6500 for Stochastic Gradient Function\n",
            "N = 6500 for Stochastic Sub-Gradient Function\n",
            "N = 7000 for Proximal Gradient Function\n",
            "N = 7000 for Stochastic Gradient Function\n",
            "N = 7000 for Stochastic Sub-Gradient Function\n",
            "N = 7500 for Proximal Gradient Function\n",
            "N = 7500 for Stochastic Gradient Function\n",
            "N = 7500 for Stochastic Sub-Gradient Function\n",
            "N = 8000 for Proximal Gradient Function\n",
            "N = 8000 for Stochastic Gradient Function\n",
            "N = 8000 for Stochastic Sub-Gradient Function\n",
            "N = 8500 for Proximal Gradient Function\n",
            "N = 8500 for Stochastic Gradient Function\n",
            "N = 8500 for Stochastic Sub-Gradient Function\n",
            "N = 9000 for Proximal Gradient Function\n",
            "N = 9000 for Stochastic Gradient Function\n",
            "N = 9000 for Stochastic Sub-Gradient Function\n",
            "N = 9500 for Proximal Gradient Function\n",
            "N = 9500 for Stochastic Gradient Function\n",
            "N = 9500 for Stochastic Sub-Gradient Function\n",
            "[1.6188602447509766, 1.135066270828247, 0.9882915019989014, 0.7722945213317871, 0.7013533115386963, 0.6749961376190186, 0.6945500373840332, 0.6539802551269531, 0.6256675720214844, 0.6150245666503906, 0.6031239032745361, 0.598376989364624, 0.6076080799102783, 0.5739071369171143, 0.58937668800354, 0.6009435653686523, 0.6145567893981934, 0.6070184707641602, 0.5749187469482422]\n",
            "[0.7332663536071777, 1.4049687385559082, 2.162536859512329, 2.829265832901001, 3.576822280883789, 4.1804797649383545, 4.795269966125488, 5.586580038070679, 6.1766579151153564, 6.942914962768555, 7.56291127204895, 8.336029529571533, 8.939373254776001, 9.628149032592773, 10.305307388305664, 11.101995706558228, 11.861059665679932, 12.402861595153809, 13.092411279678345]\n",
            "[0.6729810237884521, 1.3776578903198242, 2.0444579124450684, 2.8439760208129883, 3.4214909076690674, 4.131845951080322, 4.791306495666504, 5.476014614105225, 6.1712486743927, 6.895487070083618, 7.480932712554932, 8.310663938522339, 8.79262661933899, 9.53881311416626, 10.221919536590576, 10.915292978286743, 11.852678060531616, 12.24305009841919, 13.144317388534546]\n"
          ],
          "name": "stdout"
        }
      ]
    },
    {
      "cell_type": "code",
      "metadata": {
        "colab": {
          "base_uri": "https://localhost:8080/",
          "height": 319
        },
        "id": "3Xo5L9iHkdQX",
        "outputId": "078b3ef0-1155-49cf-b9e3-875b4a627788"
      },
      "source": [
        "\n",
        "# Random X\n",
        "#comp_time_N_prox = [1.6524100303649902, 1.0764613151550293, 0.8702692985534668, 0.7575669288635254, 0.7244038581848145, 0.708141565322876, 0.6475667953491211, 0.6390447616577148, 0.6226475238800049, 0.6034164428710938, 0.6401464939117432, 0.6154055595397949, 0.6249487400054932, 0.5878493785858154, 0.5842859745025635, 0.6210455894470215, 0.6097066402435303, 0.5902907848358154, 0.5882308483123779]\n",
        "#comp_time_N_subg = [0.6896660327911377, 1.450862169265747, 2.0305209159851074, 2.7442500591278076, 3.486647129058838, 4.114997863769531, 4.959404945373535, 5.4457550048828125, 6.383319139480591, 6.859850168228149, 7.523995399475098, 8.253390073776245, 9.128736019134521, 9.697450160980225, 10.434390544891357, 11.100789308547974, 11.551125288009644, 12.4006028175354, 13.446029901504517]\n",
        "\n",
        "#Normal Distribution X\n",
        "comp_time_N_prox = [1.7502226829528809, 1.0987131595611572, 0.8918313980102539, 0.8624117374420166, 0.8024282455444336, 0.6992778778076172, 0.6947231292724609, 0.7428948879241943, 0.6163134574890137, 0.6007742881774902, 0.6111116409301758, 0.602060079574585, 0.5894467830657959, 0.5747578144073486, 0.5769977569580078, 0.5957958698272705, 0.6129364967346191, 0.6109001636505127, 0.6175305843353271]\n",
        "comp_time_N_subg = [0.706697940826416, 1.4935050010681152, 2.1821913719177246, 2.6953771114349365, 3.381666421890259, 4.15513801574707, 5.108561277389526, 5.522367238998413, 6.096566200256348, 6.858453989028931, 7.681184530258179, 8.403875350952148, 8.831019639968872, 9.525176525115967, 10.188826560974121, 11.004908084869385, 11.664239406585693, 12.511788606643677, 13.351653099060059]\n",
        "\n",
        "a = [pow(10, i) for i in range(10)]\n",
        "fig = plt.figure()\n",
        "\n",
        "N_new=[]\n",
        "for i in range(500,10000,500):\n",
        "  N_new.append(i)\n",
        "\n",
        "plt.plot(N_new, comp_time_N_prox, label='Prox_grad', linestyle='--', marker='o')\n",
        "plt.plot(N_new, comp_time_N_subg, label='SubGrad', linestyle='--', marker='o')\n",
        "\n",
        "plt.yscale(\"log\")\n",
        "plt.legend(loc='best')\n",
        "from google.colab import files\n",
        "plt.savefig(\"Evaluation_Varying_N_Normal_X.png\")\n",
        "files.download(\"Evaluation_Varying_N_Normal_X.png\") \n",
        "plt.show()"
      ],
      "execution_count": null,
      "outputs": [
        {
          "output_type": "stream",
          "text": [
            "[1.7502226829528809, 1.0987131595611572, 0.8918313980102539, 0.8624117374420166, 0.8024282455444336, 0.6992778778076172, 0.6947231292724609, 0.7428948879241943, 0.6163134574890137, 0.6007742881774902, 0.6111116409301758, 0.602060079574585, 0.5894467830657959, 0.5747578144073486, 0.5769977569580078, 0.5957958698272705, 0.6129364967346191, 0.6109001636505127, 0.6175305843353271]\n",
            "[0.706697940826416, 1.4935050010681152, 2.1821913719177246, 2.6953771114349365, 3.381666421890259, 4.15513801574707, 5.108561277389526, 5.522367238998413, 6.096566200256348, 6.858453989028931, 7.681184530258179, 8.403875350952148, 8.831019639968872, 9.525176525115967, 10.188826560974121, 11.004908084869385, 11.664239406585693, 12.511788606643677, 13.351653099060059]\n"
          ],
          "name": "stdout"
        },
        {
          "output_type": "display_data",
          "data": {
            "application/javascript": [
              "\n",
              "    async function download(id, filename, size) {\n",
              "      if (!google.colab.kernel.accessAllowed) {\n",
              "        return;\n",
              "      }\n",
              "      const div = document.createElement('div');\n",
              "      const label = document.createElement('label');\n",
              "      label.textContent = `Downloading \"${filename}\": `;\n",
              "      div.appendChild(label);\n",
              "      const progress = document.createElement('progress');\n",
              "      progress.max = size;\n",
              "      div.appendChild(progress);\n",
              "      document.body.appendChild(div);\n",
              "\n",
              "      const buffers = [];\n",
              "      let downloaded = 0;\n",
              "\n",
              "      const channel = await google.colab.kernel.comms.open(id);\n",
              "      // Send a message to notify the kernel that we're ready.\n",
              "      channel.send({})\n",
              "\n",
              "      for await (const message of channel.messages) {\n",
              "        // Send a message to notify the kernel that we're ready.\n",
              "        channel.send({})\n",
              "        if (message.buffers) {\n",
              "          for (const buffer of message.buffers) {\n",
              "            buffers.push(buffer);\n",
              "            downloaded += buffer.byteLength;\n",
              "            progress.value = downloaded;\n",
              "          }\n",
              "        }\n",
              "      }\n",
              "      const blob = new Blob(buffers, {type: 'application/binary'});\n",
              "      const a = document.createElement('a');\n",
              "      a.href = window.URL.createObjectURL(blob);\n",
              "      a.download = filename;\n",
              "      div.appendChild(a);\n",
              "      a.click();\n",
              "      div.remove();\n",
              "    }\n",
              "  "
            ],
            "text/plain": [
              "<IPython.core.display.Javascript object>"
            ]
          },
          "metadata": {
            "tags": []
          }
        },
        {
          "output_type": "display_data",
          "data": {
            "application/javascript": [
              "download(\"download_99aae898-85ca-4bd4-bc97-148099665bbb\", \"Evaluation_Varying_N_Normal_X.png\", 12905)"
            ],
            "text/plain": [
              "<IPython.core.display.Javascript object>"
            ]
          },
          "metadata": {
            "tags": []
          }
        },
        {
          "output_type": "display_data",
          "data": {
            "image/png": "[encoded data removed]",
            "text/plain": [
              "<Figure size 432x288 with 1 Axes>"
            ]
          },
          "metadata": {
            "tags": [],
            "needs_background": "light"
          }
        }
      ]
    },
    {
      "cell_type": "markdown",
      "metadata": {
        "id": "WiQUQpPEnFQ_"
      },
      "source": [
        "##Evaluation in terms of K\n",
        "varying value of K from 1000 to 8000 with step size of 1000"
      ]
    },
    {
      "cell_type": "code",
      "metadata": {
        "colab": {
          "base_uri": "https://localhost:8080/"
        },
        "id": "uDFn89_WkMbG",
        "outputId": "50bd27b4-95bb-4920-c17d-15c2f2f2eb50"
      },
      "source": [
        "comp_time_K_prox = []\n",
        "comp_time_K_sgd = []\n",
        "comp_time_K_subg = []\n",
        "for K in range(1000,8000,1000):\n",
        "\n",
        "  N, J = 1000, 30 # N = number of samples, J = features, K = tasks\n",
        "  n_relevant_features = 5\n",
        "  coef = np.zeros((K, J))\n",
        "  c = np.linspace(0, 2 * np.pi, K // 2)\n",
        "  for k in range(n_relevant_features):\n",
        "      coef[:K // 2, k] = np.sin((1. + rng.randn(1)) * c + 2 * rng.randn(1))\n",
        "      coef[K // 2:, k] = coef[:K // 2, k]\n",
        "\n",
        "  X = rng.randn(N, J)\n",
        "  #X=np.random.normal(0, 1, size=(N, J))\n",
        "  y = np.dot(X, coef.T) + rng.randn(N, K)\n",
        "  X_train, X_test, y_train, y_test = train_test_split(X, y, test_size=.7,\n",
        "                                                      random_state=42)\n",
        "  \n",
        "  G = np.identity(K)\n",
        "  grad_func=1\n",
        "  for j in range(K // 2):\n",
        "      G[j, K // 2 + j] = G[K // 2 + j, j] = 1.0\n",
        "  start_time = time.time()\n",
        "  print(\"K = {0} for Proximal Gradient Function\".format(K))\n",
        "  gflasso_model = GraphFusedLasso(G, verbose=True, max_iterations=1000, lambda_val=2., epsilon=1.,grad_func=1).fit(X, y)\n",
        "  end_time = time.time()\n",
        "  comp_time_K_prox.append(end_time - start_time)\n",
        "  grad_func=2\n",
        "  \n",
        "  print(\"K = {0} for Stochastic Gradient Function\".format(K))\n",
        "  start_time = time.time()\n",
        "  lr =0.5\n",
        "  n_iter = 50\n",
        "  theta = np.random.randn(J+1,1)\n",
        "  X_b = np.c_[np.ones((len(X),1)),X]\n",
        "  gflasso_model = GraphFusedLasso(G, theta,X_b,lr,n_iter=n_iter, verbose=True, max_iterations=1000, lambda_val=2., epsilon=1,grad_func=2).fit(X, y)\n",
        "  end_time = time.time()\n",
        "  comp_time_K_sgd.append(end_time - start_time)\n",
        "\n",
        "  print(\"K = {0} for Stochastic Sub-Gradient Function\".format(K))\n",
        "  start_time = time.time()\n",
        "  gflasso_model = GraphFusedLasso(G, verbose=True,grad_func=3, n_iter=50).fit(X, y)\n",
        "  end_time = time.time()\n",
        "  comp_time_K_subg.append(end_time - start_time)\n",
        "print(comp_time_K_prox)\n",
        "print(comp_time_K_subg)"
      ],
      "execution_count": null,
      "outputs": [
        {
          "output_type": "stream",
          "text": [
            "K = 1000 for Proximal Gradient Function\n",
            "K = 1000 for Stochastic Gradient Function\n",
            "K = 1000 for Stochastic Sub-Gradient Function\n",
            "K = 2000 for Proximal Gradient Function\n",
            "K = 2000 for Stochastic Gradient Function\n",
            "K = 2000 for Stochastic Sub-Gradient Function\n",
            "K = 3000 for Proximal Gradient Function\n",
            "K = 3000 for Stochastic Gradient Function\n",
            "K = 3000 for Stochastic Sub-Gradient Function\n",
            "K = 4000 for Proximal Gradient Function\n",
            "K = 4000 for Stochastic Gradient Function\n",
            "K = 4000 for Stochastic Sub-Gradient Function\n",
            "K = 5000 for Proximal Gradient Function\n",
            "K = 5000 for Stochastic Gradient Function\n",
            "K = 5000 for Stochastic Sub-Gradient Function\n",
            "K = 6000 for Proximal Gradient Function\n",
            "K = 6000 for Stochastic Gradient Function\n",
            "K = 6000 for Stochastic Sub-Gradient Function\n",
            "K = 7000 for Proximal Gradient Function\n",
            "K = 7000 for Stochastic Gradient Function\n",
            "K = 7000 for Stochastic Sub-Gradient Function\n",
            "[121.5137665271759, 352.7910442352295, 724.7827446460724, 1318.319215297699, 2183.0467767715454, 3340.735093355179, 4900.298081159592]\n",
            "[17.689831256866455, 101.21360635757446, 275.35854291915894, 609.1056840419769, 1147.8345053195953, 1959.5170483589172, 3036.780740737915]\n",
            "[17.646416425704956, 95.27220606803894, 275.81103587150574, 608.4826486110687, 1161.9301245212555, 1950.5011146068573, 3049.594600915909]\n"
          ],
          "name": "stdout"
        }
      ]
    },
    {
      "cell_type": "code",
      "metadata": {
        "colab": {
          "base_uri": "https://localhost:8080/",
          "height": 265
        },
        "id": "jPt5yW7SAHn1",
        "outputId": "94059498-aa1f-45f0-bd8a-ae808aa15b79"
      },
      "source": [
        "# Random X\n",
        "#comp_time_K_prox = [121.5137665271759, 352.7910442352295, 724.7827446460724, 1318.319215297699, 2183.0467767715454, 3340.735093355179, 4900.298081159592]\n",
        "#comp_time_K_subg = [17.646416425704956, 95.27220606803894, 275.81103587150574, 608.4826486110687, 1161.9301245212555, 1950.5011146068573, 3049.594600915909]\n",
        "\n",
        "#Normal Distribution X\n",
        "comp_time_K_prox = [113.9111864566803, 337.96793007850647, 690.1005334854126, 1258.1055722236633, 2082.5863206386566, 3180.7012462615967, 4724.101638555527]\n",
        "comp_time_K_subg = [16.972026824951172, 93.48991560935974, 264.95730996131897, 585.7650554180145, 1104.0863575935364, 1890.8375437259674, 2961.358941078186]\n",
        "\n",
        "a = [pow(10, i) for i in range(10)]\n",
        "fig = plt.figure()\n",
        "\n",
        "K_new=[]\n",
        "for i in range(1000,8000,1000):\n",
        "  K_new.append(i)\n",
        "\n",
        "plt.plot(K_new, comp_time_K_prox, label='Prox_grad', linestyle='--', marker='o')\n",
        "plt.plot(K_new, comp_time_K_subg, label='SubGrad', linestyle='--', marker='o')\n",
        "plt.yscale(\"log\")\n",
        "plt.legend(loc='best')\n",
        "from google.colab import files\n",
        "plt.savefig(\"Evaluation_Varying_K_Normal_X.png\")\n",
        "files.download(\"Evaluation_Varying_K_Normal_X.png\") \n",
        "plt.show()"
      ],
      "execution_count": null,
      "outputs": [
        {
          "output_type": "display_data",
          "data": {
            "application/javascript": [
              "\n",
              "    async function download(id, filename, size) {\n",
              "      if (!google.colab.kernel.accessAllowed) {\n",
              "        return;\n",
              "      }\n",
              "      const div = document.createElement('div');\n",
              "      const label = document.createElement('label');\n",
              "      label.textContent = `Downloading \"${filename}\": `;\n",
              "      div.appendChild(label);\n",
              "      const progress = document.createElement('progress');\n",
              "      progress.max = size;\n",
              "      div.appendChild(progress);\n",
              "      document.body.appendChild(div);\n",
              "\n",
              "      const buffers = [];\n",
              "      let downloaded = 0;\n",
              "\n",
              "      const channel = await google.colab.kernel.comms.open(id);\n",
              "      // Send a message to notify the kernel that we're ready.\n",
              "      channel.send({})\n",
              "\n",
              "      for await (const message of channel.messages) {\n",
              "        // Send a message to notify the kernel that we're ready.\n",
              "        channel.send({})\n",
              "        if (message.buffers) {\n",
              "          for (const buffer of message.buffers) {\n",
              "            buffers.push(buffer);\n",
              "            downloaded += buffer.byteLength;\n",
              "            progress.value = downloaded;\n",
              "          }\n",
              "        }\n",
              "      }\n",
              "      const blob = new Blob(buffers, {type: 'application/binary'});\n",
              "      const a = document.createElement('a');\n",
              "      a.href = window.URL.createObjectURL(blob);\n",
              "      a.download = filename;\n",
              "      div.appendChild(a);\n",
              "      a.click();\n",
              "      div.remove();\n",
              "    }\n",
              "  "
            ],
            "text/plain": [
              "<IPython.core.display.Javascript object>"
            ]
          },
          "metadata": {
            "tags": []
          }
        },
        {
          "output_type": "display_data",
          "data": {
            "application/javascript": [
              "download(\"download_2ec07f29-18bd-452a-875e-2dc314172032\", \"Evaluation_Varying_K_Normal_X.png\", 14029)"
            ],
            "text/plain": [
              "<IPython.core.display.Javascript object>"
            ]
          },
          "metadata": {
            "tags": []
          }
        },
        {
          "output_type": "display_data",
          "data": {
            "image/png": "[encoded data removed]",
            "text/plain": [
              "<Figure size 432x288 with 1 Axes>"
            ]
          },
          "metadata": {
            "tags": [],
            "needs_background": "light"
          }
        }
      ]
    }
  ]
}